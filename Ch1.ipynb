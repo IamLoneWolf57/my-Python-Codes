{
 "cells": [
  {
   "cell_type": "code",
   "execution_count": 5,
   "id": "bec64c71",
   "metadata": {},
   "outputs": [
    {
     "name": "stdout",
     "output_type": "stream",
     "text": [
      "Series form = 1\n",
      "  121.5436037678517 nm\n",
      "  102.55241567912488 nm\n",
      "  97.23488301428137 nm\n",
      "  94.95594044363415 nm\n",
      "  93.76220862091418 nm\n",
      "Series form = 2\n",
      "  656.3354603463993 nm\n",
      "  486.1744150714068 nm\n",
      "  434.084299170899 nm\n",
      "  410.2096627164995 nm\n",
      "  397.04243897498225 nm\n",
      "Series form = 3\n",
      "  1875.2441724182836 nm\n",
      "  1281.9051959890612 nm\n",
      "  1093.8924339106654 nm\n",
      "  1005.013673655424 nm\n",
      "  954.6697605038536 nm\n"
     ]
    }
   ],
   "source": [
    "R = 1.097e-2\n",
    "for m in [1,2,3]:\n",
    "    print(\"Series form =\",m)\n",
    "    for k in [1,2,3,4,5]:\n",
    "            n = m + k\n",
    "            invlambda = R*(1/m**2-1/n**2)\n",
    "            print(\" \", 1/invlambda, \"nm\")"
   ]
  },
  {
   "cell_type": "code",
   "execution_count": 3,
   "id": "64094309",
   "metadata": {},
   "outputs": [
    {
     "name": "stdout",
     "output_type": "stream",
     "text": [
      "Series from = 1\n",
      "  12154360.376785172 nm\n",
      "  10255241.56791249 nm\n",
      "  9723488.301428137 nm\n",
      "  9495594.044363415 nm\n",
      "  9376220.862091418 nm\n",
      "Series from = 2\n",
      "  65633546.034639925 nm\n",
      "  48617441.50714069 nm\n",
      "  43408429.9170899 nm\n",
      "  41020966.27164996 nm\n",
      "  39704243.89749823 nm\n",
      "Series from = 3\n",
      "  187524417.2418284 nm\n",
      "  128190519.59890613 nm\n",
      "  109389243.39106655 nm\n",
      "  100501367.36554238 nm\n",
      "  95466976.05038536 nm\n"
     ]
    }
   ],
   "source": [
    "R = 1.097e-7\n",
    "for m in [1,2,3]:\n",
    "    print(\"Series from =\",m)\n",
    "    for k in [1,2,3,4,5]:\n",
    "            n = m + k\n",
    "            invlambda = R*(1/m**2-1/n**2)\n",
    "            print(\" \", 1/invlambda, \"nm\")"
   ]
  },
  {
   "cell_type": "code",
   "execution_count": null,
   "id": "c4cee1b2",
   "metadata": {},
   "outputs": [],
   "source": []
  }
 ],
 "metadata": {
  "kernelspec": {
   "display_name": "base",
   "language": "python",
   "name": "python3"
  },
  "language_info": {
   "codemirror_mode": {
    "name": "ipython",
    "version": 3
   },
   "file_extension": ".py",
   "mimetype": "text/x-python",
   "name": "python",
   "nbconvert_exporter": "python",
   "pygments_lexer": "ipython3",
   "version": "3.13.5"
  }
 },
 "nbformat": 4,
 "nbformat_minor": 5
}
