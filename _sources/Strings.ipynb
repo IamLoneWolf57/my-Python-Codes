{
 "cells": [
  {
   "cell_type": "markdown",
   "id": "2240f80d",
   "metadata": {},
   "source": [
    "# Working with Strings"
   ]
  },
  {
   "cell_type": "markdown",
   "id": "195d8c02",
   "metadata": {},
   "source": [
    "# Strings\n",
    "- to store textual data\n",
    "- variable are usually lowercased, can use underscore (_) to distinguish\n",
    "- Use \" \" when you need to have ' ' within your message\n",
    "- or use \\ backslash to escape characters\n",
    "- other wise we can use both \" \" & ' ' - double & single quotes\n",
    "- you can use triple quotes\n",
    "- Using Length Function - len() to find the number of characters in the string\n",
    "    - seems no difference, smart in print & passing with len... ???\n",
    "- ### Index\n",
    "    - starts from o to l-1 for strings or for all values?\n",
    "    - use square brackets [] with the index value to use that particular value\n",
    "- ### Slicing\n",
    "    - use colon : to select particular range, specify starting, end & step value\n",
    "    - remember end point doesn't include that one!\n",
    "- ### Methods / String formatting\n",
    "    - on surface level, methods are same as functions but they belong to objects\n",
    "    - use dot operator\n",
    "    - lower(), upper() for cases\n",
    "    - count() with argument of what letter / word you need to find. \n",
    "    - find() for finding that letter ... at the index position\n",
    "    - replace() with two arguments separated by comma, unexpected no change since due to return statement... we'll learn later\n",
    "    - so got to create a new variable or again define that same variable\n",
    "    - concatenation using + operator. add strings in between\n",
    "    - but it fails at handling complicated strings since it's hard to keep track of all plus, spaces...\n",
    "    - so it's better to use placeholders {} and use format method\n",
    "    - it's bit tedious, but works well\n",
    "    - f strings , can directly write within placeholders, easy to edit it right there\n",
    "- ### For More Info:\n",
    "    - use dir() with the string name\n",
    "    - use help() with the str argument\n",
    "\n",
    "\n"
   ]
  },
  {
   "cell_type": "code",
   "execution_count": 7,
   "id": "100cfd65",
   "metadata": {},
   "outputs": [
    {
     "name": "stdout",
     "output_type": "stream",
     "text": [
      "Hello World\n"
     ]
    }
   ],
   "source": [
    "the_message_single = 'Hello World'\n",
    "print(the_message_single)"
   ]
  },
  {
   "cell_type": "code",
   "execution_count": 4,
   "id": "f82b6f6c",
   "metadata": {},
   "outputs": [
    {
     "name": "stdout",
     "output_type": "stream",
     "text": [
      "Lw's World\n"
     ]
    }
   ],
   "source": [
    "new_message = 'Lw\\'s World'\n",
    "print(new_message)"
   ]
  },
  {
   "cell_type": "code",
   "execution_count": 5,
   "id": "24538e72",
   "metadata": {},
   "outputs": [
    {
     "name": "stdout",
     "output_type": "stream",
     "text": [
      "LW's World\n"
     ]
    }
   ],
   "source": [
    "new_message = \"LW's World\"\n",
    "print(new_message)"
   ]
  },
  {
   "cell_type": "code",
   "execution_count": 5,
   "id": "b5c74a50",
   "metadata": {},
   "outputs": [
    {
     "name": "stdout",
     "output_type": "stream",
     "text": [
      "This is a multi line\n",
      "message to you wrapped in single quotes\n"
     ]
    }
   ],
   "source": [
    "multi_line_single = '''This is a multi line\n",
    "message to you wrapped in single quotes'''\n",
    "print(multi_line_single)"
   ]
  },
  {
   "cell_type": "code",
   "execution_count": 6,
   "id": "f6e47645",
   "metadata": {},
   "outputs": [
    {
     "name": "stdout",
     "output_type": "stream",
     "text": [
      "This is a multi line\n",
      "message to you wrapped in double quotes\n"
     ]
    }
   ],
   "source": [
    "multi_line_double = \"\"\"This is a multi line\n",
    "message to you wrapped in double quotes\"\"\"\n",
    "print(multi_line_double)"
   ]
  },
  {
   "cell_type": "code",
   "execution_count": null,
   "id": "1bb2ffd0",
   "metadata": {},
   "outputs": [
    {
     "name": "stdout",
     "output_type": "stream",
     "text": [
      "3.141592653589793\n"
     ]
    }
   ],
   "source": [
    "import math\n",
    "print(math.pi)"
   ]
  },
  {
   "cell_type": "code",
   "execution_count": 8,
   "id": "1ce71385",
   "metadata": {},
   "outputs": [
    {
     "name": "stdout",
     "output_type": "stream",
     "text": [
      "60\n"
     ]
    }
   ],
   "source": [
    "multi_line_double = \"\"\"This is a multi line\n",
    "message to you wrapped in double quotes\"\"\"\n",
    "len(multi_line_double)\n",
    "print(len(multi_line_double))\n"
   ]
  },
  {
   "cell_type": "code",
   "execution_count": 7,
   "id": "95a81a14",
   "metadata": {},
   "outputs": [
    {
     "name": "stdout",
     "output_type": "stream",
     "text": [
      "60\n"
     ]
    },
    {
     "data": {
      "text/plain": [
       "60"
      ]
     },
     "execution_count": 7,
     "metadata": {},
     "output_type": "execute_result"
    }
   ],
   "source": [
    "multi_line_double = \"\"\"This is a multi line\n",
    "message to you wrapped in double quotes\"\"\"\n",
    "print(len(multi_line_double))\n",
    "len(multi_line_double)"
   ]
  },
  {
   "cell_type": "code",
   "execution_count": 10,
   "id": "21e45350",
   "metadata": {},
   "outputs": [
    {
     "ename": "IndexError",
     "evalue": "string index out of range",
     "output_type": "error",
     "traceback": [
      "\u001b[1;31m---------------------------------------------------------------------------\u001b[0m",
      "\u001b[1;31mIndexError\u001b[0m                                Traceback (most recent call last)",
      "Cell \u001b[1;32mIn[10], line 3\u001b[0m\n\u001b[0;32m      1\u001b[0m multi_line_double \u001b[38;5;241m=\u001b[39m \u001b[38;5;124m\"\"\"\u001b[39m\u001b[38;5;124mThis is a multi line\u001b[39m\n\u001b[0;32m      2\u001b[0m \u001b[38;5;124mmessage to you wrapped in double quotes\u001b[39m\u001b[38;5;124m\"\"\"\u001b[39m\n\u001b[1;32m----> 3\u001b[0m \u001b[38;5;28mprint\u001b[39m(multi_line_double[\u001b[38;5;241m60\u001b[39m])\n",
      "\u001b[1;31mIndexError\u001b[0m: string index out of range"
     ]
    }
   ],
   "source": [
    "multi_line_double = \"\"\"This is a multi line\n",
    "message to you wrapped in double quotes\"\"\"\n",
    "print(multi_line_double[60])"
   ]
  },
  {
   "cell_type": "code",
   "execution_count": 12,
   "id": "8c6cf3a1",
   "metadata": {},
   "outputs": [
    {
     "name": "stdout",
     "output_type": "stream",
     "text": [
      "s\n"
     ]
    },
    {
     "data": {
      "text/plain": [
       "'e'"
      ]
     },
     "execution_count": 12,
     "metadata": {},
     "output_type": "execute_result"
    }
   ],
   "source": [
    "multi_line_double = \"\"\"This is a multi line\n",
    "message to you wrapped in double quotes\"\"\"\n",
    "print(multi_line_double[59])\n",
    "multi_line_double[58]"
   ]
  },
  {
   "cell_type": "code",
   "execution_count": 13,
   "id": "dad628ae",
   "metadata": {},
   "outputs": [
    {
     "name": "stdout",
     "output_type": "stream",
     "text": [
      "This\n"
     ]
    },
    {
     "data": {
      "text/plain": [
       "'This'"
      ]
     },
     "execution_count": 13,
     "metadata": {},
     "output_type": "execute_result"
    }
   ],
   "source": [
    "multi_line_double = \"\"\"This is a multi line\n",
    "message to you wrapped in double quotes\"\"\"\n",
    "print(multi_line_double[0:4])\n",
    "multi_line_double[0:4]\n"
   ]
  },
  {
   "cell_type": "code",
   "execution_count": 15,
   "id": "5b1dde94",
   "metadata": {},
   "outputs": [
    {
     "name": "stdout",
     "output_type": "stream",
     "text": [
      "Ti\n"
     ]
    },
    {
     "data": {
      "text/plain": [
       "' samliln\\nesg oyuwapdi obeqoe'"
      ]
     },
     "execution_count": 15,
     "metadata": {},
     "output_type": "execute_result"
    }
   ],
   "source": [
    "multi_line_double = \"\"\"This is a multi line\n",
    "message to you wrapped in double quotes\"\"\"\n",
    "print(multi_line_double[:4:2])\n",
    "multi_line_double[4::2]\n"
   ]
  },
  {
   "cell_type": "code",
   "execution_count": null,
   "id": "538e58ac",
   "metadata": {},
   "outputs": [
    {
     "name": "stdout",
     "output_type": "stream",
     "text": [
      "This Is The New Method Variable For Our String Formatting\n",
      "THIS IS THE NEW METHOD VARIABLE FOR OUR STRING FORMATTING\n",
      "this is the new method variable for our string formatting\n"
     ]
    }
   ],
   "source": [
    "method_variable='''this is the new method variable for our string formatting'''\n",
    "print(method_variable.title())\n",
    "print(method_variable.upper())\n",
    "print(method_variable.lower())\n",
    "print(method_variable.capitalize())\n",
    "print(method_variable.find('string'))\n"
   ]
  }
 ],
 "metadata": {
  "kernelspec": {
   "display_name": "base",
   "language": "python",
   "name": "python3"
  },
  "language_info": {
   "codemirror_mode": {
    "name": "ipython",
    "version": 3
   },
   "file_extension": ".py",
   "mimetype": "text/x-python",
   "name": "python",
   "nbconvert_exporter": "python",
   "pygments_lexer": "ipython3",
   "version": "3.13.5"
  }
 },
 "nbformat": 4,
 "nbformat_minor": 5
}
